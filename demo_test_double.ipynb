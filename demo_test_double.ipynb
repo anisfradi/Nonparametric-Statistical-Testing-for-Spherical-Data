{
 "cells": [
  {
   "cell_type": "code",
   "execution_count": 40,
   "metadata": {},
   "outputs": [],
   "source": [
    "# import librairies\n",
    "import numpy as np\n",
    "import matplotlib.pyplot as plt\n",
    "import sklearn as sk\n",
    "from numpy import linalg as LA\n",
    "import scipy.stats \n",
    "from scipy.stats import norm"
   ]
  },
  {
   "cell_type": "code",
   "execution_count": 41,
   "metadata": {},
   "outputs": [],
   "source": [
    "n=2 # the dimension of data\n",
    "N1=1000 # the number of observations for first class\n",
    "N2=1000 # the number of observations for second class\n",
    "kappa=10 # degree of concentration\n",
    "true_mean1=np.array([np.sqrt(2)/2, np.sqrt(2)/2]) # the true first mean on the sphere\n",
    "true_mean2=np.array([-np.sqrt(2)/2, np.sqrt(2)/2]) # the true second mean on the sphere"
   ]
  },
  {
   "cell_type": "code",
   "execution_count": 42,
   "metadata": {},
   "outputs": [],
   "source": [
    "# Simulate spherical data from the von Mises-Fisher distribution\n",
    "z1=np.zeros([N1,n])\n",
    "z2=np.zeros([N2,n])\n",
    "\n",
    "for i in range(N1):\n",
    "    z1[i,:]=np.random.vonmises(true_mean1, kappa).T\n",
    "    z1[i,:]=z1[i,:]/LA.norm(z1[i,:]) # normalize data for consistency\n",
    "    \n",
    "for i in range(N2):\n",
    "    z2[i,:]=np.random.vonmises(true_mean2, kappa).T\n",
    "    z2[i,:]=z2[i,:]/LA.norm(z2[i,:]) # normalize data for consistency"
   ]
  },
  {
   "cell_type": "code",
   "execution_count": 43,
   "metadata": {},
   "outputs": [],
   "source": [
    "# geometric tools on the sphere S^{n-1}\n",
    "from geomstats.learning.frechet_mean import FrechetMean\n",
    "from geomstats.geometry.hypersphere import Hypersphere\n",
    "sphere = Hypersphere(dim=n-1)"
   ]
  },
  {
   "cell_type": "code",
   "execution_count": 44,
   "metadata": {},
   "outputs": [],
   "source": [
    "# find the Fréchet mean estimates\n",
    "Fmean1 = FrechetMean(metric=sphere.metric)\n",
    "Fmean1.fit(z1)\n",
    "estimate_mean1=Fmean1.estimate_.reshape((n, 1))\n",
    "\n",
    "Fmean2 = FrechetMean(metric=sphere.metric)\n",
    "Fmean2.fit(z2)\n",
    "estimate_mean2=Fmean2.estimate_.reshape((n, 1))"
   ]
  },
  {
   "cell_type": "code",
   "execution_count": 45,
   "metadata": {},
   "outputs": [],
   "source": [
    "# project data into the tangent space of the sphere at true_mean1 and true_mean2\n",
    "x1=np.zeros([N1,n])\n",
    "x2=np.zeros([N2,n])\n",
    "\n",
    "for i in range(N1):\n",
    "    x1[i,:]=z1[i,:]/np.inner(np.array(z1[i,:]),true_mean1.T)\n",
    "    \n",
    "for i in range(N2):    \n",
    "    x2[i,:]=z2[i,:]/np.inner(np.array(z2[i,:]),true_mean2.T)    "
   ]
  },
  {
   "cell_type": "code",
   "execution_count": 46,
   "metadata": {},
   "outputs": [],
   "source": [
    "# evaluate the two resultants\n",
    "SN1=np.sum([x1],1).T\n",
    "SN2=np.sum([x2],1).T"
   ]
  },
  {
   "cell_type": "code",
   "execution_count": 47,
   "metadata": {},
   "outputs": [],
   "source": [
    "# estimate the mean and std of concentrations: E(c^j) and \\sqrt{Var(c^j)}; j=1,2\n",
    "inner_product1=np.zeros([N1,1])\n",
    "inner_product2=np.zeros([N2,1])\n",
    "\n",
    "for i in range(N1):\n",
    "    inner_product1[i]=np.inner(np.array(z1[i,:]),estimate_mean1.T)\n",
    "    \n",
    "for i in range(N2):    \n",
    "    inner_product2[i]=np.inner(np.array(z2[i,:]),estimate_mean2.T)\n",
    "   \n",
    "\n",
    "mean_c1=LA.norm(SN1)/(N1*LA.norm(np.mean([z1],1)));    \n",
    "mean_c2=LA.norm(SN2)/(N2*LA.norm(np.mean([z2],1)));    \n",
    "    \n",
    "std_c1=np.sqrt(np.mean(1./inner_product1**2) - mean_c1**2)    \n",
    "std_c2=np.sqrt(np.mean(1./inner_product2**2) - mean_c2**2)    "
   ]
  },
  {
   "cell_type": "code",
   "execution_count": 48,
   "metadata": {},
   "outputs": [],
   "source": [
    "# all possible p-values with a precision of 0.01 in this example\n",
    "p=np.linspace(0,1,101)"
   ]
  },
  {
   "cell_type": "code",
   "execution_count": 49,
   "metadata": {},
   "outputs": [],
   "source": [
    "# find the quantile of standard normal distribution\n",
    "q = scipy.stats.norm.ppf(1-p/2)\n",
    "# estimate sigma_j^2 for j=1,2\n",
    "mat1=np.zeros([n,n])\n",
    "mat2=np.zeros([n,n])\n",
    "\n",
    "for i in range(N1):\n",
    "    mat1+=np.dot(z1[i,:].reshape((n, 1)), z1[i,:].reshape((1, n)))\n",
    "    \n",
    "for i in range(N2):    \n",
    "    mat2+=np.dot(z2[i,:].reshape((n, 1)), z2[i,:].reshape((1, n)))\n",
    "    \n",
    "sigma2_1=(std_c1**2)*np.dot(np.dot(np.mean([z1],1).reshape((1,n)),mat1),np.mean([z1],1).reshape((n,1)))/N1\n",
    "sigma2_2=(std_c2**2)*np.dot(np.dot(np.mean([z2],1).reshape((1,n)),mat2),np.mean([z2],1).reshape((n,1)))/N2\n",
    "\n",
    "# find the threshold\n",
    "threshold=(q*np.sqrt(sigma2_1/N1+sigma2_2/N2)).reshape((np.shape(p)[0],1))"
   ]
  },
  {
   "cell_type": "code",
   "execution_count": null,
   "metadata": {},
   "outputs": [],
   "source": [
    "# the statistic value\n",
    "T1 = LA.norm(np.mean([z1], 1)) * LA.norm(SN1) / N1 \n",
    "T2 = LA.norm(np.mean([z2], 1)) * LA.norm(SN2) / N2 \n",
    "T=T1-T2\n",
    "\n",
    "M = np.zeros([threshold.shape[0], 1]) \n",
    "\n",
    "for i in range(threshold.shape[0]):\n",
    "    if np.any(T >= threshold[i]) or np.any(T <= -threshold[i]):\n",
    "        M[i] = 1\n",
    "    else:\n",
    "        M[i] = 0\n",
    "\n",
    "# find the p-value        \n",
    "p_value=p[list(np.array(M) == 1).index(True)]\n",
    "print(p_value)"
   ]
  },
  {
   "cell_type": "code",
   "execution_count": null,
   "metadata": {},
   "outputs": [],
   "source": [
    "# illustration of the p-value, the statistic value and the critical region\n",
    "plt.rcParams.update({'font.size': 30})\n",
    "plt.rcParams.update({'legend.fontsize': 24})\n",
    "plt.rcParams['font.weight'] = 'bold'\n",
    "\n",
    "fig = plt.figure(figsize=(10, 10))\n",
    "ax = fig.add_subplot(111)\n",
    "\n",
    "ax.fill(np.concatenate([p, p[::-1]]),np.concatenate([threshold,(-threshold)[::-1]]),alpha=.7, fc='b', ec='None', label='$CR_{\\\\alpha}^{c}$')    \n",
    "  \n",
    "ax.set_yticklabels([])\n",
    "\n",
    "plt.plot([0,1], [T,T], linewidth=5,color='r', label='test statistic value')\n",
    "plt.plot([p_value, p_value], [-threshold[1], threshold[1]], linewidth=7, color='gray', label='p-value')\n",
    "\n",
    "fig.legend(loc='upper left',ncol=5,mode=\"expand\",shadow=True,fancybox=True)"
   ]
  },
  {
   "cell_type": "code",
   "execution_count": null,
   "metadata": {},
   "outputs": [],
   "source": [
    "# illustration of some (here 100) circular data, their Fréchet means and their projections\n",
    "import geomstats.visualization as visualization\n",
    "from mpl_toolkits.mplot3d import Axes3D\n",
    "from matplotlib import cm\n",
    "\n",
    "sphere = Hypersphere(dim=1)\n",
    "\n",
    "plt.rcParams.update({'font.size': 30})\n",
    "plt.rcParams.update({'legend.fontsize': 22})\n",
    "plt.rcParams['font.weight'] = 'bold'\n",
    "\n",
    "fig = plt.figure(figsize=(10, 10))\n",
    "\n",
    "ax = visualization.plot(z1[0:99,:], space='S1', color='blue', alpha=0.7)\n",
    "ax.scatter(z1[0:99,0], z1[0:99,1], color='blue', marker='o', s=100, label='circular data 1')\n",
    "\n",
    "visualization.plot(z2[0:99,:], space='S1', color='red', ax=ax)\n",
    "ax.scatter(z2[0:99,0], z2[0:99,1], color='red', marker='o', s=100, label='circular data 2')\n",
    "\n",
    "t1=np.linspace(-1,1,20)\n",
    "\n",
    "s1=(1-estimate_mean1[0]*t1)/estimate_mean1[1]\n",
    "s2=(1-estimate_mean2[0]*t1)/estimate_mean2[1]\n",
    "\n",
    "ax.plot(t1,s1,linewidth=2,color='black')\n",
    "ax.plot(t1,s2,linewidth=2,color='black')\n",
    "\n",
    "\n",
    "ax.scatter(x1[0:99,0], x1[0:99,1], color='brown', marker='o', s=100, label='projected data 1')\n",
    "ax.scatter(x2[0:99,0], x2[0:99,1], color='pink', marker='o', s=100, label='projected data 2')\n",
    "\n",
    "\n",
    "plt.plot(estimate_mean1[0,],estimate_mean1[1,], color='green', marker='o', markersize=20, label='Fréchet means')\n",
    "plt.plot(estimate_mean2[0,],estimate_mean2[1,], color='green', marker='o', markersize=20)\n",
    "\n",
    "\n",
    "fig.legend(loc='upper left', bbox_to_anchor=(0, 0.52, 1, 0.5), ncol=2,mode=\"expand\",shadow=True,fancybox=True,fontsize=\"small\")\n",
    "\n",
    "plt.axis('off')"
   ]
  }
 ],
 "metadata": {
  "kernelspec": {
   "display_name": "Python 3",
   "language": "python",
   "name": "python3"
  },
  "language_info": {
   "codemirror_mode": {
    "name": "ipython",
    "version": 3
   },
   "file_extension": ".py",
   "mimetype": "text/x-python",
   "name": "python",
   "nbconvert_exporter": "python",
   "pygments_lexer": "ipython3",
   "version": "3.7.3"
  }
 },
 "nbformat": 4,
 "nbformat_minor": 2
}
