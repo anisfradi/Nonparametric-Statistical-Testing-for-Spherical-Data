{
 "cells": [
  {
   "cell_type": "code",
   "execution_count": 54,
   "metadata": {},
   "outputs": [],
   "source": [
    "# import librairies\n",
    "import numpy as np\n",
    "import matplotlib.pyplot as plt\n",
    "import sklearn as sk\n",
    "from numpy import linalg as LA\n",
    "import scipy.stats \n",
    "from scipy.stats import norm"
   ]
  },
  {
   "cell_type": "code",
   "execution_count": 55,
   "metadata": {},
   "outputs": [],
   "source": [
    "n=2 # the dimension of data\n",
    "N=1000 # the number of observations\n",
    "kappa=10 # degree of concentration\n",
    "true_mean = np.zeros([n,1]); true_mean[-1] = 1  # the true mean on the sphere"
   ]
  },
  {
   "cell_type": "code",
   "execution_count": 56,
   "metadata": {},
   "outputs": [],
   "source": [
    "# Simulate spherical data from the von Mises-Fisher distribution\n",
    "z=np.zeros([N,n])\n",
    "\n",
    "for i in range(N):\n",
    "    z[i,:]=np.random.vonmises(true_mean, kappa).T\n",
    "    z[i,:]=z[i,:]/LA.norm(z[i,:]) # normalize data for consistency"
   ]
  },
  {
   "cell_type": "code",
   "execution_count": 57,
   "metadata": {},
   "outputs": [],
   "source": [
    "# geometric tools on the sphere S^{n-1}\n",
    "from geomstats.learning.frechet_mean import FrechetMean\n",
    "from geomstats.geometry.hypersphere import Hypersphere\n",
    "sphere = Hypersphere(dim=n-1)"
   ]
  },
  {
   "cell_type": "code",
   "execution_count": 58,
   "metadata": {},
   "outputs": [],
   "source": [
    "# find the Fréchet mean estimate\n",
    "Fmean = FrechetMean(metric=sphere.metric)\n",
    "Fmean.fit(z)\n",
    "estimate_mean=Fmean.estimate_.reshape((n, 1))"
   ]
  },
  {
   "cell_type": "code",
   "execution_count": 59,
   "metadata": {},
   "outputs": [],
   "source": [
    "# project data into the tangent space of the sphere at true_mean\n",
    "x=np.zeros([N,n])\n",
    "for i in range(N):\n",
    "    x[i,:]=z[i,:]/np.inner(np.array(z[i,:]),true_mean.T)"
   ]
  },
  {
   "cell_type": "code",
   "execution_count": 60,
   "metadata": {},
   "outputs": [],
   "source": [
    "# evaluate the resultant\n",
    "SN=np.sum([x],1).T"
   ]
  },
  {
   "cell_type": "code",
   "execution_count": 61,
   "metadata": {},
   "outputs": [],
   "source": [
    "# estimate the mean and std of concentrations: E(c) and \\sqrt{Var(c)}\n",
    "inner_product=np.zeros([N,1])\n",
    "for i in range(N):\n",
    "    inner_product[i]=np.inner(np.array(z[i,:]),estimate_mean.T)\n",
    "    \n",
    "mean_c=LA.norm(SN)/(N*LA.norm(np.mean([z],1)));    \n",
    "    \n",
    "std_c=np.sqrt(np.mean(1./inner_product**2) - mean_c**2)    "
   ]
  },
  {
   "cell_type": "code",
   "execution_count": 62,
   "metadata": {},
   "outputs": [],
   "source": [
    "# all possible p-values with a precision of 0.01 for this example\n",
    "p=np.linspace(0,1,101)"
   ]
  },
  {
   "cell_type": "code",
   "execution_count": 63,
   "metadata": {},
   "outputs": [],
   "source": [
    "# find the quantile of standard normal distribution\n",
    "q = scipy.stats.norm.ppf(1-p/2)\n",
    "# estimate sigma^2\n",
    "mat=np.zeros([n,n])\n",
    "for i in range(N):\n",
    "    mat+=np.dot(z[i,:].reshape((n, 1)), z[i,:].reshape((1, n)))\n",
    "    \n",
    "sigma2=(std_c**2)*np.dot(np.dot(np.mean([z],1).reshape((1,n)),mat),np.mean([z],1).reshape((n,1)))/N\n",
    "# find the thresholds\n",
    "threshold1=(mean_c*LA.norm(np.mean([z],1))**2+(q*np.sqrt(sigma2))/np.sqrt(N)).reshape((np.shape(p)[0],1))\n",
    "threshold2=(mean_c*LA.norm(np.mean([z],1))**2-(q*np.sqrt(sigma2))/np.sqrt(N)).reshape((np.shape(p)[0],1))"
   ]
  },
  {
   "cell_type": "code",
   "execution_count": null,
   "metadata": {},
   "outputs": [],
   "source": [
    "# the statistic value\n",
    "T = LA.norm(np.mean([z], 1)) * LA.norm(SN) / N \n",
    "\n",
    "M = np.zeros([threshold1.shape[0], 1]) \n",
    "\n",
    "for i in range(threshold1.shape[0]):\n",
    "    if np.any(T >= threshold1[i]) or np.any(T <= threshold2[i]):\n",
    "        M[i] = 1\n",
    "    else:\n",
    "        M[i] = 0\n",
    "\n",
    "# find the p-value        \n",
    "p_value=p[list(np.array(M) == 1).index(True)]\n",
    "print(p_value)"
   ]
  },
  {
   "cell_type": "code",
   "execution_count": null,
   "metadata": {},
   "outputs": [],
   "source": [
    "# illustration of the p-value, the statistic value and the critical region\n",
    "plt.rcParams.update({'font.size': 30})\n",
    "plt.rcParams.update({'legend.fontsize': 24})\n",
    "plt.rcParams['font.weight'] = 'bold'\n",
    "\n",
    "fig = plt.figure(figsize=(10, 10))\n",
    "ax = fig.add_subplot(111)\n",
    "\n",
    "ax.fill(np.concatenate([p, p[::-1]]),np.concatenate([threshold1,(threshold2)[::-1]]),alpha=.7, fc='b', ec='None', label='$CR_{\\\\alpha}^{c}$')    \n",
    "  \n",
    "ax.set_yticklabels([])\n",
    "\n",
    "plt.plot([0,1], [T,T], linewidth=5,color='r', label='test statistic value')\n",
    "plt.plot([p_value, p_value], [threshold1[1], threshold2[1]], linewidth=7, color='gray', label='p-value')\n",
    "\n",
    "fig.legend(loc='upper left',ncol=5,mode=\"expand\",shadow=True,fancybox=True)"
   ]
  },
  {
   "cell_type": "code",
   "execution_count": null,
   "metadata": {},
   "outputs": [],
   "source": [
    "# illustration of some (here 100) circular data, their Fréchet mean and their projections\n",
    "import geomstats.visualization as visualization\n",
    "from mpl_toolkits.mplot3d import Axes3D\n",
    "from matplotlib import cm\n",
    "\n",
    "sphere = Hypersphere(dim=1)\n",
    "\n",
    "plt.rcParams.update({'font.size': 30})\n",
    "plt.rcParams.update({'legend.fontsize': 22})\n",
    "plt.rcParams['font.weight'] = 'bold'\n",
    "\n",
    "fig = plt.figure(figsize=(10, 10))\n",
    "\n",
    "ax = visualization.plot(z[0:99,:], space='S1', color='blue', alpha=0.7)\n",
    "\n",
    "ax.scatter(z[0:99,0], z[0:99,1], color='blue', marker='o', s=100, label='circular data')\n",
    "\n",
    "t1=np.linspace(-1,1,20)\n",
    "\n",
    "s1=(1-estimate_mean[0]*t1)/estimate_mean[1]\n",
    "\n",
    "ax.plot(t1,s1,linewidth=2,color='black')\n",
    "\n",
    "ax.scatter(x[0:99,0], x[0:99,1], color='brown', marker='o', s=100, label='projected data')\n",
    "\n",
    "plt.plot(estimate_mean[0,],estimate_mean[1,], color='green', marker='o', markersize=20, label='Fréchet mean')\n",
    "\n",
    "fig.legend(loc='upper left', bbox_to_anchor=(0, 0.5, 1, 0.5), ncol=2,mode=\"expand\",shadow=True,fancybox=True,fontsize=\"small\")\n",
    "\n",
    "plt.axis('off')"
   ]
  },
  {
   "cell_type": "code",
   "execution_count": 67,
   "metadata": {},
   "outputs": [],
   "source": [
    "# density of ||S_N||*||\\bar{z}||/N\n",
    "t=np.linspace(mean_c*(LA.norm(np.mean([z],1))**2)-0.5,mean_c*(LA.norm(np.mean([z],1))**2)+0.5,100)\n",
    "    \n",
    "density=norm.pdf(t, mean_c*(LA.norm(np.mean([z],1))**2), sigma2)    "
   ]
  },
  {
   "cell_type": "code",
   "execution_count": null,
   "metadata": {},
   "outputs": [],
   "source": [
    "plt.rcParams.update({'font.size': 30})\n",
    "plt.rcParams.update({'legend.fontsize': 24})\n",
    "plt.rcParams['font.weight'] = 'bold'\n",
    "\n",
    "fig = plt.figure(figsize=(10, 10))\n",
    "ax = fig.add_subplot(111)\n",
    "\n",
    "ax.plot(t,density.T,color='b', lw=5, alpha=0.7)"
   ]
  }
 ],
 "metadata": {
  "kernelspec": {
   "display_name": "Python 3",
   "language": "python",
   "name": "python3"
  },
  "language_info": {
   "codemirror_mode": {
    "name": "ipython",
    "version": 3
   },
   "file_extension": ".py",
   "mimetype": "text/x-python",
   "name": "python",
   "nbconvert_exporter": "python",
   "pygments_lexer": "ipython3",
   "version": "3.7.3"
  }
 },
 "nbformat": 4,
 "nbformat_minor": 2
}
